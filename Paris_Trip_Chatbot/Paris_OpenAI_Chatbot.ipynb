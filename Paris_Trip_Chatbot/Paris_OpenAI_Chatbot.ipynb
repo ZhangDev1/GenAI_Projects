{
 "cells": [
  {
   "cell_type": "markdown",
   "id": "1e60957c-e4c6-41cc-bb4c-80e56182ab27",
   "metadata": {},
   "source": [
    "Datacamp Project: https://www.datacamp.com/datalab/w/3ec9912b-01e5-4cfb-93b6-0a3ff78c11ab/edit"
   ]
  },
  {
   "cell_type": "code",
   "execution_count": 4,
   "id": "7a8987e5-e35a-4b24-bf96-18c752745e1c",
   "metadata": {},
   "outputs": [
    {
     "name": "stdout",
     "output_type": "stream",
     "text": [
      "[{'role': 'system', 'content': 'You are a chatbot that will answer common questions from Parisian tourists in an informative manner.'}, {'role': 'user', 'content': 'How far away is the Louvre from the Eiffel Tower (in miles) if you are driving?'}, {'role': 'assistant', 'content': 'The Louvre is approximately 2.5 miles away from the Eiffel Tower if you are driving.'}, {'role': 'user', 'content': 'Where is the Arc de Triomphe?'}, {'role': 'assistant', 'content': 'The Arc de Triomphe is located in Paris, France.'}, {'role': 'user', 'content': 'What are the must-see artworks at the Louvre Museum?'}, {'role': 'assistant', 'content': '1. \"Mona Lisa\" by Leonardo da Vinci\\n2. \"Venus de Milo\" (Aphrodite of Milos)\\n3. \"Winged Victory of Samothrace\"\\n4. \"The Raft of the Medusa\" by Théodore Géricault\\n5. \"Liberty Leading the People\" by Eugène Delacroix\\n6. \"The Wedding at Cana\" by Paolo Veronese\\n7. \"The Coronation of Napoleon\" by'}]\n"
     ]
    }
   ],
   "source": [
    "import os\n",
    "import getpass\n",
    "from openai import OpenAI\n",
    "\n",
    "# Define the model to use\n",
    "model = \"gpt-3.5-turbo\"\n",
    "\n",
    "if \"OPENAI_API_KEY\" not in os.environ:\n",
    "    os.environ[\"OPENAI_API_KEY\"] = getpass.getpass(\"Enter your OpenAI API key: \")\n",
    "\n",
    "# Define the client\n",
    "client = OpenAI(api_key=os.environ[\"OPENAI_API_KEY\"])\n",
    "\n",
    "# Create initial user inputs to chatbot\n",
    "questions = [\n",
    "# Initialize the chatbot behavior with a system message\n",
    "{\n",
    "    \"role\": \"system\",\n",
    "    \"content\": \"You are a chatbot that will answer common questions from Parisian tourists in an informative manner.\"\n",
    "},\n",
    "{\n",
    "    \"role\": \"user\",\n",
    "    \"content\": \"How far away is the Louvre from the Eiffel Tower (in miles) if you are driving?\"\n",
    "},\n",
    "{\n",
    "    \"role\": \"user\",\n",
    "    \"content\": \"Where is the Arc de Triomphe?\"\n",
    "},\n",
    "{\n",
    "    \"role\": \"user\",\n",
    "    \"content\": \"What are the must-see artworks at the Louvre Museum?\"\n",
    "}\n",
    "]\n",
    "\n",
    "conversation = []\n",
    "\n",
    "# Iterate through the system message + user questions and feed them to the model\n",
    "for question in questions:\n",
    "    # Add questions to conversations for look back\n",
    "    conversation.append(question)\n",
    "    \n",
    "    # Call chat completion end point with params set\n",
    "    chat_completion = client.chat.completions.create(\n",
    "        model=model,\n",
    "        messages=[question],\n",
    "        temperature=0,\n",
    "        max_tokens=100\n",
    "    )\n",
    "    \n",
    "    #  Retrieve the chatbot response\n",
    "    response = chat_completion.choices[0].message.content\n",
    "    \n",
    "    output = {\n",
    "        \"role\" : \"assistant\",\n",
    "        \"content\" : response\n",
    "    }\n",
    "    \n",
    "    # Add chatbot responses to user inputs to conversations\n",
    "    if question[\"role\"] == \"user\":\n",
    "        conversation.append(output)\n",
    "    \n",
    "print(conversation)"
   ]
  },
  {
   "cell_type": "code",
   "execution_count": null,
   "id": "9b9475e1-4aa3-43cb-95c1-8a4dab7e1297",
   "metadata": {},
   "outputs": [],
   "source": []
  }
 ],
 "metadata": {
  "kernelspec": {
   "display_name": "Python 3 (ipykernel)",
   "language": "python",
   "name": "python3"
  },
  "language_info": {
   "codemirror_mode": {
    "name": "ipython",
    "version": 3
   },
   "file_extension": ".py",
   "mimetype": "text/x-python",
   "name": "python",
   "nbconvert_exporter": "python",
   "pygments_lexer": "ipython3",
   "version": "3.11.9"
  }
 },
 "nbformat": 4,
 "nbformat_minor": 5
}
